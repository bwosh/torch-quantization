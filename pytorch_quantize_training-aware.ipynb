{
 "cells": [
  {
   "cell_type": "markdown",
   "metadata": {},
   "source": [
    "## Links:\n",
    "\n",
    "Introductory video:\n",
    "https://www.youtube.com/watch?v=IPQmGzYuxmc\n",
    "\n",
    "Introductory documentation:\n",
    "https://pytorch.org/docs/stable/quantization.html\n",
    "\n",
    "In PyTorch 1.3 where code was run it is said to be an EXPERIMENTAL feature.\n",
    "\n",
    "Links below were helpful in understanding the details\n",
    "* https://pytorch.org/tutorials/advanced/static_quantization_tutorial.html\n",
    "* https://pytorch.org/docs/master/quantization.html#quantized-torch-tensor-operations\n",
    "* https://github.com/pytorch/pytorch/blob/master/torch/quantization/quantize.py"
   ]
  },
  {
   "cell_type": "code",
   "execution_count": 33,
   "metadata": {},
   "outputs": [],
   "source": [
    "import matplotlib.pyplot as plt\n",
    "import numpy as np\n",
    "import os\n",
    "import time\n",
    "import torch\n",
    "import torch.quantization as quantization\n",
    "import torch.nn as nn\n",
    "import torch.nn.quantized as qnn\n",
    "\n",
    "from mnist import MNIST\n",
    "from torch.nn import CrossEntropyLoss\n",
    "from torch.optim import SGD\n",
    "from torch.optim.lr_scheduler import StepLR\n",
    "from torch.utils.data import Dataset, DataLoader\n",
    "from tqdm import tqdm_notebook as tqdm"
   ]
  },
  {
   "cell_type": "code",
   "execution_count": 34,
   "metadata": {},
   "outputs": [
    {
     "data": {
      "text/plain": [
       "'1.3.0.post2'"
      ]
     },
     "execution_count": 34,
     "metadata": {},
     "output_type": "execute_result"
    }
   ],
   "source": [
    "torch.__version__"
   ]
  },
  {
   "cell_type": "markdown",
   "metadata": {},
   "source": [
    "# Prepare dataset"
   ]
  },
  {
   "cell_type": "code",
   "execution_count": 35,
   "metadata": {},
   "outputs": [],
   "source": [
    "class MnistDataset(Dataset):\n",
    "    def __init__(self, mnist_data_path, use_test=False):\n",
    "        self.mndata = MNIST(mnist_data_path)\n",
    "        if use_test:\n",
    "            self.images, self.labels = self.mndata.load_testing()\n",
    "        else:\n",
    "            self.images, self.labels = self.mndata.load_training()\n",
    "        \n",
    "        self.images = np.array(self.images).reshape(-1, 1, 28, 28)/255\n",
    "        self.labels = np.array(self.labels)\n",
    "        \n",
    "    def __len__(self):\n",
    "         return self.images.shape[0]\n",
    "\n",
    "    def __getitem__(self, index):\n",
    "        return torch.tensor(self.images[index], dtype=torch.float), int(self.labels[index])"
   ]
  },
  {
   "cell_type": "code",
   "execution_count": 36,
   "metadata": {},
   "outputs": [],
   "source": [
    "data = MnistDataset('../torch_quant/python-mnist/data/')\n",
    "data_test = MnistDataset('../torch_quant/python-mnist/data/', use_test=True)"
   ]
  },
  {
   "cell_type": "markdown",
   "metadata": {},
   "source": [
    "# Prepare model"
   ]
  },
  {
   "cell_type": "code",
   "execution_count": 37,
   "metadata": {},
   "outputs": [],
   "source": [
    "class MyModel(nn.Module):\n",
    "    def __init__(self, qconfig, num_classes=10):\n",
    "        super(MyModel, self).__init__()\n",
    "        self.qconfig = qconfig\n",
    "        self.conv1 = nn.Conv2d( 1,  8, kernel_size=3, stride=2, padding=2, bias=True)\n",
    "        self.relu1 = nn.ReLU(inplace=True)\n",
    "        self.maxpool1 = nn.MaxPool2d(kernel_size=2, stride=2, padding=1)\n",
    "        \n",
    "        self.conv2 = nn.Conv2d( 8, 16, kernel_size=2, stride=1, padding=2, bias=True)\n",
    "        self.relu2 = nn.ReLU(inplace=True)\n",
    "        self.maxpool2 = nn.MaxPool2d(kernel_size=2, stride=2, padding=1)\n",
    "            \n",
    "        self.conv3 = nn.Conv2d(16, 32, kernel_size=2, stride=1, padding=2, bias=True)\n",
    "        self.relu3 = nn.ReLU(inplace=True)\n",
    "        self.maxpool3 = nn.MaxPool2d(kernel_size=2, stride=2, padding=1)\n",
    "\n",
    "        self.avgpool = nn.AdaptiveAvgPool2d((1, 1))\n",
    "        self.dropout2d = nn.Dropout2d(p=0.1)\n",
    "        self.dropout = nn.Dropout(p=0.3)\n",
    "        self.fc = nn.Linear(32, num_classes)\n",
    "        \n",
    "    def forward(self, x):\n",
    "        x = self.maxpool1(self.relu1(self.conv1(x)))\n",
    "        x = self.dropout2d(x)\n",
    "        x = self.maxpool2(self.relu2(self.conv2(x)))\n",
    "        x = self.dropout2d(x)\n",
    "        x = self.maxpool3(self.relu3(self.conv3(x)))\n",
    "        x = self.avgpool(x)\n",
    "        x = torch.flatten(x, 1)\n",
    "        x = self.dropout(x)\n",
    "        x = self.fc(x)\n",
    "        return x\n",
    "\n",
    "model = MyModel(quantization.get_default_qat_qconfig())\n",
    "model.load_state_dict(torch.load('orig.pth'))\n",
    "model.qconfig = quantization.get_default_qat_qconfig()"
   ]
  },
  {
   "cell_type": "code",
   "execution_count": 39,
   "metadata": {},
   "outputs": [],
   "source": [
    "# prepare model for quantization-aware training\n",
    "pmodel = quantization.fuse_modules(model, [['conv1','relu1'],['conv2','relu2'],['conv3','relu3']])\n",
    "qmodel = torch.quantization.prepare_qat(pmodel, inplace=True)\n",
    "model = qmodel"
   ]
  },
  {
   "cell_type": "markdown",
   "metadata": {},
   "source": [
    "# Train model (dummy, not caring about super results here)"
   ]
  },
  {
   "cell_type": "code",
   "execution_count": 41,
   "metadata": {
    "scrolled": true
   },
   "outputs": [
    {
     "data": {
      "application/vnd.jupyter.widget-view+json": {
       "model_id": "",
       "version_major": 2,
       "version_minor": 0
      },
      "text/plain": [
       "HBox(children=(IntProgress(value=0, max=3750), HTML(value='')))"
      ]
     },
     "metadata": {},
     "output_type": "display_data"
    },
    {
     "data": {
      "application/vnd.jupyter.widget-view+json": {
       "model_id": "",
       "version_major": 2,
       "version_minor": 0
      },
      "text/plain": [
       "HBox(children=(IntProgress(value=0, max=3750), HTML(value='')))"
      ]
     },
     "metadata": {},
     "output_type": "display_data"
    },
    {
     "name": "stdout",
     "output_type": "stream",
     "text": [
      "[E1]: Train Acc: 0.96613\n"
     ]
    },
    {
     "data": {
      "application/vnd.jupyter.widget-view+json": {
       "model_id": "",
       "version_major": 2,
       "version_minor": 0
      },
      "text/plain": [
       "HBox(children=(IntProgress(value=0, max=625), HTML(value='')))"
      ]
     },
     "metadata": {},
     "output_type": "display_data"
    },
    {
     "name": "stdout",
     "output_type": "stream",
     "text": [
      "[E1]: Test Acc: 0.96760\n"
     ]
    },
    {
     "data": {
      "application/vnd.jupyter.widget-view+json": {
       "model_id": "",
       "version_major": 2,
       "version_minor": 0
      },
      "text/plain": [
       "HBox(children=(IntProgress(value=0, max=3750), HTML(value='')))"
      ]
     },
     "metadata": {},
     "output_type": "display_data"
    },
    {
     "data": {
      "application/vnd.jupyter.widget-view+json": {
       "model_id": "",
       "version_major": 2,
       "version_minor": 0
      },
      "text/plain": [
       "HBox(children=(IntProgress(value=0, max=3750), HTML(value='')))"
      ]
     },
     "metadata": {},
     "output_type": "display_data"
    },
    {
     "name": "stdout",
     "output_type": "stream",
     "text": [
      "[E2]: Train Acc: 0.96667\n"
     ]
    },
    {
     "data": {
      "application/vnd.jupyter.widget-view+json": {
       "model_id": "",
       "version_major": 2,
       "version_minor": 0
      },
      "text/plain": [
       "HBox(children=(IntProgress(value=0, max=625), HTML(value='')))"
      ]
     },
     "metadata": {},
     "output_type": "display_data"
    },
    {
     "name": "stdout",
     "output_type": "stream",
     "text": [
      "[E2]: Test Acc: 0.96800\n"
     ]
    },
    {
     "data": {
      "application/vnd.jupyter.widget-view+json": {
       "model_id": "",
       "version_major": 2,
       "version_minor": 0
      },
      "text/plain": [
       "HBox(children=(IntProgress(value=0, max=3750), HTML(value='')))"
      ]
     },
     "metadata": {},
     "output_type": "display_data"
    },
    {
     "data": {
      "application/vnd.jupyter.widget-view+json": {
       "model_id": "",
       "version_major": 2,
       "version_minor": 0
      },
      "text/plain": [
       "HBox(children=(IntProgress(value=0, max=3750), HTML(value='')))"
      ]
     },
     "metadata": {},
     "output_type": "display_data"
    },
    {
     "name": "stdout",
     "output_type": "stream",
     "text": [
      "[E3]: Train Acc: 0.96662\n"
     ]
    },
    {
     "data": {
      "application/vnd.jupyter.widget-view+json": {
       "model_id": "",
       "version_major": 2,
       "version_minor": 0
      },
      "text/plain": [
       "HBox(children=(IntProgress(value=0, max=625), HTML(value='')))"
      ]
     },
     "metadata": {},
     "output_type": "display_data"
    },
    {
     "name": "stdout",
     "output_type": "stream",
     "text": [
      "[E3]: Test Acc: 0.96790\n"
     ]
    },
    {
     "data": {
      "application/vnd.jupyter.widget-view+json": {
       "model_id": "",
       "version_major": 2,
       "version_minor": 0
      },
      "text/plain": [
       "HBox(children=(IntProgress(value=0, max=3750), HTML(value='')))"
      ]
     },
     "metadata": {},
     "output_type": "display_data"
    },
    {
     "data": {
      "application/vnd.jupyter.widget-view+json": {
       "model_id": "",
       "version_major": 2,
       "version_minor": 0
      },
      "text/plain": [
       "HBox(children=(IntProgress(value=0, max=3750), HTML(value='')))"
      ]
     },
     "metadata": {},
     "output_type": "display_data"
    },
    {
     "name": "stdout",
     "output_type": "stream",
     "text": [
      "[E4]: Train Acc: 0.96655\n"
     ]
    },
    {
     "data": {
      "application/vnd.jupyter.widget-view+json": {
       "model_id": "",
       "version_major": 2,
       "version_minor": 0
      },
      "text/plain": [
       "HBox(children=(IntProgress(value=0, max=625), HTML(value='')))"
      ]
     },
     "metadata": {},
     "output_type": "display_data"
    },
    {
     "name": "stdout",
     "output_type": "stream",
     "text": [
      "[E4]: Test Acc: 0.96750\n"
     ]
    },
    {
     "data": {
      "application/vnd.jupyter.widget-view+json": {
       "model_id": "",
       "version_major": 2,
       "version_minor": 0
      },
      "text/plain": [
       "HBox(children=(IntProgress(value=0, max=3750), HTML(value='')))"
      ]
     },
     "metadata": {},
     "output_type": "display_data"
    },
    {
     "data": {
      "application/vnd.jupyter.widget-view+json": {
       "model_id": "",
       "version_major": 2,
       "version_minor": 0
      },
      "text/plain": [
       "HBox(children=(IntProgress(value=0, max=3750), HTML(value='')))"
      ]
     },
     "metadata": {},
     "output_type": "display_data"
    },
    {
     "name": "stdout",
     "output_type": "stream",
     "text": [
      "[E5]: Train Acc: 0.96677\n"
     ]
    },
    {
     "data": {
      "application/vnd.jupyter.widget-view+json": {
       "model_id": "",
       "version_major": 2,
       "version_minor": 0
      },
      "text/plain": [
       "HBox(children=(IntProgress(value=0, max=625), HTML(value='')))"
      ]
     },
     "metadata": {},
     "output_type": "display_data"
    },
    {
     "name": "stdout",
     "output_type": "stream",
     "text": [
      "[E5]: Test Acc: 0.96800\n"
     ]
    }
   ],
   "source": [
    "optimizer = SGD(model.parameters(), lr=0.001, momentum=0, dampening=0, weight_decay=0, nesterov=False)\n",
    "criterion = CrossEntropyLoss()\n",
    "scheduler = StepLR(optimizer, 10, 0.1)\n",
    "epochs = 5\n",
    "batch_size = 16\n",
    "\n",
    "dataloader = DataLoader(data, batch_size=batch_size, shuffle=True)\n",
    "dataloader_test = DataLoader(data_test, batch_size=batch_size, shuffle=False)\n",
    "\n",
    "train_acc = []\n",
    "test_acc = []\n",
    "\n",
    "best = 0\n",
    "\n",
    "if os.path.isfile('qa_best.pth'):\n",
    "    model.load_state_dict(torch.load('qa_best.pth'))\n",
    "else:\n",
    "    for e in range(epochs):\n",
    "        model.train()\n",
    "        losses = []\n",
    "        tloader = tqdm(dataloader, leave=False)\n",
    "        number = 0\n",
    "        hits = 0\n",
    "\n",
    "        for img, label in tloader:\n",
    "            optimizer.zero_grad()  \n",
    "            output = model(img)\n",
    "            loss = criterion(output, label)\n",
    "            loss.backward()\n",
    "            optimizer.step()\n",
    "\n",
    "            losses.append(float(loss))\n",
    "            number += output.shape[0]\n",
    "            output = output.detach().numpy()\n",
    "            label = label.detach().numpy()\n",
    "            hits += np.sum( np.argmax(output, axis=1) == label )\n",
    "            tloader.desc = f\"E{e+1}/{epochs} {np.mean(losses):0.5f} ACC: {(hits/number):0.5f}\" \n",
    "        \n",
    "        model.eval()\n",
    "        tloader = tqdm(dataloader, leave=False)\n",
    "        losses = []\n",
    "        number = 0\n",
    "        hits = 0\n",
    "        with torch.no_grad():\n",
    "            for img, label in tloader:\n",
    "                output = model(img)\n",
    "                loss = criterion(output, label)\n",
    "\n",
    "                losses.append(float(loss))\n",
    "                number += output.shape[0]\n",
    "                output = output.detach().numpy()\n",
    "                label = label.detach().numpy()\n",
    "                hits += np.sum( np.argmax(output, axis=1) == label )\n",
    "                \n",
    "                tloader.desc = f\"E{e+1}/{epochs} {np.mean(losses):0.5f} ACC: {(hits/number):0.5f}\"\n",
    "        print(f\"[E{e+1}]: Train Acc: {(hits/number):0.5f}\")\n",
    "        train_acc.append(hits/number)\n",
    "        \n",
    "        tloader = tqdm(dataloader_test, leave=False)\n",
    "        losses = []\n",
    "        number = 0\n",
    "        hits = 0\n",
    "        with torch.no_grad():\n",
    "            for img, label in tloader:\n",
    "                output = model(img)\n",
    "                loss = criterion(output, label)\n",
    "\n",
    "                losses.append(float(loss))\n",
    "                number += output.shape[0]\n",
    "                output = output.detach().numpy()\n",
    "                label = label.detach().numpy()\n",
    "                hits += np.sum( np.argmax(output, axis=1) == label )\n",
    "                \n",
    "                tloader.desc = f\"E{e+1}/{epochs} {np.mean(losses):0.5f} ACC: {(hits/number):0.5f}\"\n",
    "        print(f\"[E{e+1}]: Test Acc: {(hits/number):0.5f}\")  \n",
    "        test_acc.append(hits/number)\n",
    "        \n",
    "        if best<hits/number:\n",
    "            best = hits/number\n",
    "            torch.save(model.state_dict(),\"qa_best.pth\")\n",
    "                \n",
    "        \n",
    "    scheduler.step()"
   ]
  },
  {
   "cell_type": "code",
   "execution_count": 42,
   "metadata": {},
   "outputs": [
    {
     "data": {
      "image/png": "[encoded data removed]",
      "text/plain": [
       "<Figure size 864x432 with 1 Axes>"
      ]
     },
     "metadata": {
      "needs_background": "light"
     },
     "output_type": "display_data"
    }
   ],
   "source": [
    "plt.figure(figsize=(12,6))\n",
    "plt.plot(train_acc, label='Train')\n",
    "plt.plot(test_acc, label='Test')\n",
    "plt.legend()\n",
    "pass"
   ]
  },
  {
   "cell_type": "code",
   "execution_count": 43,
   "metadata": {},
   "outputs": [
    {
     "data": {
      "text/plain": [
       "0.968"
      ]
     },
     "execution_count": 43,
     "metadata": {},
     "output_type": "execute_result"
    }
   ],
   "source": [
    "test_acc[-1]"
   ]
  },
  {
   "cell_type": "markdown",
   "metadata": {},
   "source": [
    "# Quantization"
   ]
  },
  {
   "cell_type": "code",
   "execution_count": 44,
   "metadata": {},
   "outputs": [],
   "source": [
    "dummy = torch.zeros(1,1,28,28, dtype=torch.float)\n",
    "test_iterations = 10000"
   ]
  },
  {
   "cell_type": "code",
   "execution_count": 45,
   "metadata": {},
   "outputs": [
    {
     "data": {
      "text/plain": [
       "<All keys matched successfully>"
      ]
     },
     "execution_count": 45,
     "metadata": {},
     "output_type": "execute_result"
    }
   ],
   "source": [
    "model.load_state_dict(torch.load('qa_best.pth'))"
   ]
  },
  {
   "cell_type": "code",
   "execution_count": 49,
   "metadata": {},
   "outputs": [
    {
     "name": "stdout",
     "output_type": "stream",
     "text": [
      "Result shape: torch.Size([1, 10]) Test time: 65413ms\n",
      "QA_Model file size: 20206\n"
     ]
    }
   ],
   "source": [
    "model.eval()\n",
    "\n",
    "time_start = time.time()\n",
    "for i in range(test_iterations):\n",
    "    result = model.forward(dummy)\n",
    "time_stop = time.time()\n",
    "q_time = int(1000*(time_stop-time_start))\n",
    "\n",
    "print(f\"Result shape: {result.shape} Test time: {q_time}ms\",)\n",
    "print(f\"QA_Model file size: {os.path.getsize('qa_best.pth')}\")"
   ]
  },
  {
   "cell_type": "code",
   "execution_count": 50,
   "metadata": {},
   "outputs": [
    {
     "data": {
      "application/vnd.jupyter.widget-view+json": {
       "model_id": "bf084827b98a4679aebffc12de3b8672",
       "version_major": 2,
       "version_minor": 0
      },
      "text/plain": [
       "HBox(children=(IntProgress(value=0, max=625), HTML(value='')))"
      ]
     },
     "metadata": {},
     "output_type": "display_data"
    },
    {
     "name": "stdout",
     "output_type": "stream",
     "text": [
      "\n",
      "Accuracy: 0.96810\n"
     ]
    }
   ],
   "source": [
    "model.load_state_dict(torch.load('qa_best.pth'))\n",
    "model.eval()\n",
    "# Check acc\n",
    "tloader = tqdm(dataloader_test)\n",
    "number = 0\n",
    "hits = 0\n",
    "for img, label in tloader: \n",
    "    output = model(img)\n",
    "    number += output.shape[0]\n",
    "    output = output.detach().numpy()\n",
    "    label = label.detach().numpy()\n",
    "    hits += np.sum( np.argmax(output, axis=1) == label )\n",
    "print(f\"Accuracy: {(hits/number):0.5f}\")"
   ]
  },
  {
   "cell_type": "markdown",
   "metadata": {},
   "source": [
    "### perform quantization"
   ]
  },
  {
   "cell_type": "code",
   "execution_count": 53,
   "metadata": {
    "scrolled": true
   },
   "outputs": [
    {
     "name": "stdout",
     "output_type": "stream",
     "text": [
      "QuantizedConvReLU2d(1, 8, kernel_size=(3, 3), stride=(2, 2), scale=0.04059883579611778, zero_point=0, padding=(2, 2))\n",
      "QuantizedLinear(in_features=32, out_features=10, scale=0.23584559559822083, zero_point=58)\n"
     ]
    }
   ],
   "source": [
    "model.load_state_dict(torch.load('qa_best.pth'))\n",
    "model.eval()\n",
    "\n",
    "## Convert model\n",
    "final_model = quantization.convert(qmodel)\n",
    "\n",
    "\n",
    "# first layer scale\n",
    "print(final_model.conv1)\n",
    "print(final_model.fc)"
   ]
  },
  {
   "cell_type": "markdown",
   "metadata": {},
   "source": [
    "### test time & size after quantization"
   ]
  },
  {
   "cell_type": "code",
   "execution_count": 54,
   "metadata": {},
   "outputs": [
    {
     "name": "stdout",
     "output_type": "stream",
     "text": [
      "Result shape: torch.Size([1, 10]) Test time: 2693ms\n"
     ]
    },
    {
     "data": {
      "application/vnd.jupyter.widget-view+json": {
       "model_id": "9894119815544dabbe89b185ad1cf399",
       "version_major": 2,
       "version_minor": 0
      },
      "text/plain": [
       "HBox(children=(IntProgress(value=0, max=625), HTML(value='')))"
      ]
     },
     "metadata": {},
     "output_type": "display_data"
    },
    {
     "name": "stdout",
     "output_type": "stream",
     "text": [
      "\n",
      "Accuracy: 0.95560\n",
      "QA_QModel file size: 6527\n"
     ]
    }
   ],
   "source": [
    "qmodel.eval()\n",
    "qdummy = torch.quantize_per_tensor(dummy, scale=1, zero_point=0, dtype=torch.quint8) \n",
    "\n",
    "time_start = time.time()\n",
    "for i in range(test_iterations):\n",
    "    result = final_model.forward(qdummy)\n",
    "time_stop = time.time()\n",
    "q_time = int(1000*(time_stop-time_start))\n",
    "\n",
    "print(f\"Result shape: {result.shape} Test time: {q_time}ms\",)\n",
    "\n",
    "# Check acc\n",
    "tloader = tqdm(dataloader_test)\n",
    "number = 0\n",
    "hits = 0\n",
    "for img, label in tloader: \n",
    "    img = torch.quantize_per_tensor(img, scale=1, zero_point=0, dtype=torch.quint8) \n",
    "    output = final_model(img)\n",
    "    number += output.shape[0]\n",
    "    output = torch.dequantize(output).detach().numpy()\n",
    "    label = label.detach().numpy()\n",
    "    hits += np.sum( np.argmax(output, axis=1) == label )\n",
    "print(f\"Accuracy: {(hits/number):0.5f}\")\n",
    "\n",
    "torch.save(final_model.state_dict(),\"qa_q.pth\")\n",
    "print(f\"QA_QModel file size: {os.path.getsize('qa_q.pth')}\")"
   ]
  },
  {
   "cell_type": "code",
   "execution_count": null,
   "metadata": {},
   "outputs": [],
   "source": []
  }
 ],
 "metadata": {
  "kernelspec": {
   "display_name": "Python 3",
   "language": "python",
   "name": "python3"
  },
  "language_info": {
   "codemirror_mode": {
    "name": "ipython",
    "version": 3
   },
   "file_extension": ".py",
   "mimetype": "text/x-python",
   "name": "python",
   "nbconvert_exporter": "python",
   "pygments_lexer": "ipython3",
   "version": "3.7.4"
  }
 },
 "nbformat": 4,
 "nbformat_minor": 2
}
